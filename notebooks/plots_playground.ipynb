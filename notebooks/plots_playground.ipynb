{
 "cells": [
  {
   "cell_type": "code",
   "execution_count": null,
   "id": "3dec53c4",
   "metadata": {},
   "outputs": [],
   "source": [
    "import pandas as pd\n",
    "lumi= 41500 "
   ]
  },
  {
   "cell_type": "code",
   "execution_count": null,
   "id": "b80bd8c1-4626-45d5-9f10-26241e40c52d",
   "metadata": {},
   "outputs": [],
   "source": [
    "%load_ext autoreload\n",
    "%autoreload 2"
   ]
  },
  {
   "cell_type": "code",
   "execution_count": null,
   "id": "0893ae41-e833-4f37-9947-c897aaceff54",
   "metadata": {},
   "outputs": [],
   "source": [
    "import numpy as np\n",
    "import matplotlib.pyplot as plt\n",
    "import mplhep as hep\n",
    "from matplotlib.offsetbox import AnchoredText\n",
    "from coffea.util import load\n",
    "from coffea.hist import plot\n",
    "from coffea import hist\n",
    "np.seterr(all=\"ignore\")\n",
    "import os,math,re,json,shutil\n",
    "\n",
    "plt.style.use(hep.style.ROOT)\n",
    "\n",
    "\n",
    "data_err_opts = {\n",
    "    'linestyle': 'none',\n",
    "    'marker': '.',\n",
    "    'markersize': 10.,\n",
    "    'color': 'k',\n",
    "    'elinewidth': 1,\n",
    "}\n",
    "data_err_opts2 = {\n",
    "    'linestyle': 'none',\n",
    "    'marker': '.',\n",
    "    'markersize': 10.,\n",
    "    'color': 'b',\n",
    "    'elinewidth': 1,\n",
    "}\n",
    "from cycler import cycler\n",
    "import matplotlib as mpl\n",
    "\n",
    "colors = [\"darkblue\",\"lightpink\",\"lightcoral\",\"aqua\",\"greenyellow\",\"olivedrab\",\"palegreen\",\"fuchsia\",\"red\",\"darkviolet\",\"firebrick\",\"plum\",\"orange\"]\n",
    "mpl.rcParams[\"axes.prop_cycle\"] = cycler('color', colors)\n",
    "from matplotlib.offsetbox import AnchoredText"
   ]
  },
  {
   "cell_type": "code",
   "execution_count": null,
   "id": "b2884617-db2f-47f5-a58b-c28a9c368058",
   "metadata": {},
   "outputs": [],
   "source": [
    "import sys, os"
   ]
  },
  {
   "cell_type": "code",
   "execution_count": null,
   "id": "9271b61d-ecd4-4c67-bd17-038d014a7be5",
   "metadata": {},
   "outputs": [],
   "source": [
    "sys.path.append('/nfs/dust/cms/user/anstein/CoffeaRunner/src/VHcc/')\n",
    "from utils.xs_scaler import scale_xs\n",
    "\n",
    "with open('/nfs/dust/cms/user/anstein/CoffeaRunner/src/VHcc/metadata/mergemap_2017_Zll.json') as json_file:  \n",
    "    merge_map = json.load(json_file)\n",
    "#with open('metadata/mergemap_2017_Zll.json') as json_file:  \n",
    "#    merge_map = json.load(json_file)\n",
    "with open('/nfs/dust/cms/user/anstein/CoffeaRunner/src/VHcc/metadata/mergemap_2017_Zll_used_keys_new.json') as json_file:\n",
    "    merge_map_notsplit = json.load(json_file)\n",
    "#with open('metadata/plotmap.json') as pltf:\n",
    "#    var_map = json.load(pltf)"
   ]
  },
  {
   "cell_type": "code",
   "execution_count": null,
   "id": "37838a3e-efa6-49ba-9724-d966fc9e9064",
   "metadata": {},
   "outputs": [],
   "source": [
    "# data = load('datasamples_2017_Zll_used.coffea')\n",
    "# higgs = load('mcsamples_2017_higgs_Zll_used.coffea')\n",
    "# vjets = load('mcsamples_2017_vjets_Zll_used.coffea')\n",
    "# vjets_ext = load('mcsamples_2017_vjets_ext_Zll_used.coffea')\n",
    "# other = load('mcsamples_2017_other_Zll_used.coffea')\n",
    "#  data = load('/nfs/dust/cms/user/anstein/CoffeaRunner/Zll_data_17.coffea')\n",
    "#  higgs = load('/nfs/dust/cms/user/anstein/CoffeaRunner/Zll_higgs_17.coffea')\n",
    "#  vjets = load('/nfs/dust/cms/user/anstein/CoffeaRunner/Zll_vjets_17.coffea')\n",
    "#  vjets_ext = load('/nfs/dust/cms/user/anstein/CoffeaRunner/Zll_vjets_ext_17.coffea')\n",
    "#  other = load('/nfs/dust/cms/user/anstein/CoffeaRunner/Zll_other_17.coffea')"
   ]
  },
  {
   "cell_type": "code",
   "execution_count": null,
   "id": "dc99f9ea-bc99-4279-9cac-726e7dda5aa1",
   "metadata": {
    "scrolled": true,
    "tags": []
   },
   "outputs": [],
   "source": [
    "data"
   ]
  },
  {
   "cell_type": "code",
   "execution_count": null,
   "id": "51a239f5-a483-4a7b-a904-ecd5d4eb04f2",
   "metadata": {
    "scrolled": true,
    "tags": []
   },
   "outputs": [],
   "source": [
    "higgs"
   ]
  },
  {
   "cell_type": "code",
   "execution_count": null,
   "id": "3d8421cf-15c3-4ff1-9561-147e1fe258a5",
   "metadata": {
    "scrolled": true,
    "tags": []
   },
   "outputs": [],
   "source": [
    "other"
   ]
  },
  {
   "cell_type": "code",
   "execution_count": null,
   "id": "25610f51-f865-420d-91c2-ca909f9b1f4d",
   "metadata": {
    "scrolled": true,
    "tags": []
   },
   "outputs": [],
   "source": [
    "vjets"
   ]
  },
  {
   "cell_type": "code",
   "execution_count": null,
   "id": "7bad6e2a-2e3d-46a4-8920-36d1ac910c95",
   "metadata": {
    "scrolled": true,
    "tags": []
   },
   "outputs": [],
   "source": [
    "vjets_ext"
   ]
  },
  {
   "cell_type": "code",
   "execution_count": null,
   "id": "202184ec-bc7d-4fa2-a60b-6d34810faadc",
   "metadata": {
    "scrolled": true,
    "tags": []
   },
   "outputs": [],
   "source": [
    "data['sumw']"
   ]
  },
  {
   "cell_type": "code",
   "execution_count": null,
   "id": "0a78ed58-b939-479d-956e-e750361a4622",
   "metadata": {
    "scrolled": true,
    "tags": []
   },
   "outputs": [],
   "source": [
    "higgs['sumw']"
   ]
  },
  {
   "cell_type": "code",
   "execution_count": null,
   "id": "4beb8a8e-db20-4a7c-b312-644f71774407",
   "metadata": {
    "scrolled": true,
    "tags": []
   },
   "outputs": [],
   "source": [
    "other['sumw']"
   ]
  },
  {
   "cell_type": "code",
   "execution_count": null,
   "id": "4ea9dd11-a394-4026-8b59-31b5695b85e8",
   "metadata": {
    "scrolled": true,
    "tags": []
   },
   "outputs": [],
   "source": [
    "vjets['sumw']"
   ]
  },
  {
   "cell_type": "code",
   "execution_count": null,
   "id": "7acf6751-10ef-4d75-8778-defd64ec8983",
   "metadata": {
    "scrolled": true,
    "tags": []
   },
   "outputs": [],
   "source": [
    "vjets_ext['sumw']"
   ]
  },
  {
   "cell_type": "code",
   "execution_count": null,
   "id": "23518a9e-e7eb-4654-bc9b-6fdbaa3b28fe",
   "metadata": {},
   "outputs": [],
   "source": [
    "data = load('/nfs/dust/cms/user/anstein/CoffeaRunner/Zll_data_17.coffea')\n",
    "#higgs = load('/nfs/dust/cms/user/anstein/CoffeaRunner/Zll_higgs_17.coffea')\n",
    "higgs = load('/nfs/dust/cms/user/anstein/CoffeaRunner/Zll_higgs_17_NEW.coffea')\n",
    "#vjets = load('/nfs/dust/cms/user/anstein/CoffeaRunner/Zll_vjets_17.coffea')\n",
    "vjets_ext = load('/nfs/dust/cms/user/anstein/CoffeaRunner/Zll_vjets_ext_17.coffea')\n",
    "other = load('/nfs/dust/cms/user/anstein/CoffeaRunner/Zll_other_17.coffea')"
   ]
  },
  {
   "cell_type": "code",
   "execution_count": null,
   "id": "87118a2c-3d26-4178-a0ad-302111950601",
   "metadata": {
    "scrolled": true,
    "tags": []
   },
   "outputs": [],
   "source": [
    "#data = load('/nfs/dust/cms/user/anstein/CoffeaRunner/Zll_data_17.coffea')\n",
    "higgs = load('/nfs/dust/cms/user/anstein/CoffeaRunner/Zll_higgs_17_NEW.coffea')\n",
    "#vjets = load('/nfs/dust/cms/user/anstein/CoffeaRunner/Zll_vjets_17.coffea')\n",
    "#vjets_DYJetsToLL_nlo = load('/nfs/dust/cms/user/anstein/CoffeaRunner/Zll_vjets_17_DYJetsToLL_nlo.coffea')\n",
    "#vjets_DY1ToLL_PtZ_50To150 = load('/nfs/dust/cms/user/anstein/CoffeaRunner/Zll_vjets_17_DY1ToLL_PtZ-50To150.coffea')\n",
    "#vjets_DY1ToLL_PtZ_150To250 = load('/nfs/dust/cms/user/anstein/CoffeaRunner/Zll_vjets_17_DY1ToLL_PtZ-150To250.coffea')\n",
    "#vjets_DY1ToLL_PtZ_250To400 = load('/nfs/dust/cms/user/anstein/CoffeaRunner/Zll_vjets_17_DY1ToLL_PtZ-250To400.coffea')\n",
    "#vjets_DY1ToLL_PtZ_400ToInf = load('/nfs/dust/cms/user/anstein/CoffeaRunner/Zll_vjets_17_DY1ToLL_PtZ-400ToInf.coffea')\n",
    "#vjets_ext = load('/nfs/dust/cms/user/anstein/CoffeaRunner/Zll_vjets_ext_17.coffea')\n",
    "#other = load('/nfs/dust/cms/user/anstein/CoffeaRunner/Zll_other_17.coffea')\n",
    "vjets_noninclusice_only = ['DY2ToLL_PtZ-400ToInf',\n",
    "                           'DY2ToLL_PtZ-250To400',\n",
    "                           'DY2ToLL_PtZ-150To250',\n",
    "                           'DY2ToLL_PtZ-50To150',\n",
    "                           'DY1ToLL_PtZ-250To400',\n",
    "                           'DY1ToLL_PtZ-400ToInf',\n",
    "                           'DY1ToLL_PtZ-150To250',\n",
    "                           'DY1ToLL_PtZ-50To150']\n",
    "\n",
    "ch = ['mumu','ee']\n",
    "#regions = ['SR2']#,'DY_CRl','DY_CRb']\n",
    "regions = ['SR_2LL','SR_2LH',\n",
    "           'CR_Zcc_2LL','CR_Zcc_2LH',\n",
    "           'CR_Z_LF_2LL','CR_Z_LF_2LH',\n",
    "           'CR_Z_HF_2LL','CR_Z_HF_2LH',\n",
    "           'CR_t_tbar_2LL','CR_t_tbar_2LH'\n",
    "          ]\n",
    "#regions = ['SR_2LL','SR_2LH']\n",
    "#regions = ['SR_2LL']\n",
    "region_map = {'SR_2LL':'Low $p_T(V)$ SR','SR_2LH':'High $p_T(V)$ SR',\n",
    "              'CR_Zcc_2LL':'Low $p_T(V)$ Zcc CR','CR_Zcc_2LH':'High $p_T(V)$ Zcc CR',\n",
    "              'CR_Z_LF_2LL':'Low $p_T(V)$ Z_LF CR','CR_Z_LF_2LH':'High $p_T(V)$ Z_LF CR',\n",
    "              'CR_Z_HF_2LL':'Low $p_T(V)$ Z_HF CR','CR_Z_HF_2LH':'High $p_T(V)$ Z_HF CR',\n",
    "              'CR_t_tbar_2LL':'Low $p_T(V)$ ttbar CR','CR_t_tbar_2LH':'High $p_T(V)$ ttbar CR'\n",
    "             }\n",
    "#region_map = {'SR_2LL':'Low $p_T(V)$ SR'}\n",
    "#for var in ['nj', 'nele','nmu', 'jetflav_pt', 'jetflav_eta', 'jetflav_phi', 'lep1_pt', 'lep1_eta', 'lep1_phi', 'jetflav_btagDeepFlavCvB', 'jetflav_btagDeepFlavCvL']:\n",
    "#for var in ['leading_jetflav_btagDeepFlavCvL','subleading_jetflav_btagDeepFlavCvL','leading_jetflav_btagDeepFlavCvB','leading_jetflav_btagDeepFlavB','leading_jetflav_btagDeepFlavC']:\n",
    "#for var in ['leading_jetflav_btagDeepFlavCvL','ll_pt']:\n",
    "#for var in ['leading_jetflav_btagDeepFlavCvL','ll_pt','ll_eta']:\n",
    "for var in ['leading_jetflav_btagDeepFlavCvL']:\n",
    "    scales=1000\n",
    "    #events = something['sumw']\n",
    "    #print(a_test_output[var],41500*scales,events)\n",
    "    #hmpf = scale_xs()\n",
    "    higgs[var]=scale_xs(higgs[var],41530*scales,higgs['sumw'])\n",
    "  #  other[var]=scale_xs(other[var],41530,other['sumw'])\n",
    "  #  vjets[var]=scale_xs(vjets[var],41530,vjets['sumw'])\n",
    "  #  vjets_ext[var]=scale_xs(vjets_ext[var],41530,vjets['sumw'])\n",
    "    \n",
    "    #vjets[var]=scale_xs(vjets[var],41500,vjets['sumw']+vjets_ext['sumw'])\n",
    "    #vjets_ext[var]=scale_xs(vjets_ext[var],41500,vjets['sumw']+vjets_ext['sumw'])\n",
    "    #outputWWl_b[var]=scale_xs(outputWWl_b[var],41500,eventWWl_b)\n",
    "    #outputWWl_b[var]=outputWWl_b[var].group(\"dataset\",hist.Cat(\"plotgroup\", \"plotgroup\"),merge_map['hww_MC'])\n",
    "    #outputWWl_data[var]=outputWWl_data[var].group(\"dataset\",hist.Cat(\"plotgroup\", \"plotgroup\"),merge_map['data'])\n",
    "    \n",
    "   # data[var]=data[var].group(\"datasetSplit\",hist.Cat(\"plotgroup\", \"plotgroup\"), {\"Data\" : merge_map['Data']})\n",
    "    higgs[var]=higgs[var].group(\"dataset\",hist.Cat(\"plotgroup\", \"plotgroup\"),merge_map)\n",
    "    #other[var]=other[var].group(\"datasetSplit\",hist.Cat(\"plotgroup\", \"plotgroup\"), merge_map['Single top','t#bar{t}','VV+other','VV+cc'])\n",
    "    #vjets[var]=vjets[var].group(\"datasetSplit\",hist.Cat(\"plotgroup\", \"plotgroup\"),merge_map['Z+l','Z+b','Z+c'])\n",
    "    #vjets_ext[var]=vjets_ext[var].group(\"datasetSplit\",hist.Cat(\"plotgroup\", \"plotgroup\"),merge_map['Z+l','Z+b','Z+c'])\n",
    "   # vjets_DY1ToLL_PtZ_50To150[var]=vjets_DY1ToLL_PtZ_50To150[var].group(\"datasetSplit\",hist.Cat(\"plotgroup\", \"plotgroup\"), merge_map)\n",
    "   # vjets_DY1ToLL_PtZ_150To250[var]=vjets_DY1ToLL_PtZ_150To250[var].group(\"datasetSplit\",hist.Cat(\"plotgroup\", \"plotgroup\"), merge_map)\n",
    "   # vjets_DY1ToLL_PtZ_250To400[var]=vjets_DY1ToLL_PtZ_250To400[var].group(\"datasetSplit\",hist.Cat(\"plotgroup\", \"plotgroup\"), merge_map)\n",
    "   # vjets_DY1ToLL_PtZ_400ToInf[var]=vjets_DY1ToLL_PtZ_400ToInf[var].group(\"datasetSplit\",hist.Cat(\"plotgroup\", \"plotgroup\"), merge_map)\n",
    "   # vjets_DY1ToLL_PtZ_50To150[var] = vjets_DY1ToLL_PtZ_50To150[var].add(vjets_DY1ToLL_PtZ_150To250[var]).add(vjets_DY1ToLL_PtZ_250To400[var]).add(vjets_DY1ToLL_PtZ_400ToInf[var])\n",
    "\n",
    " #   other[var]=other[var].group(\"datasetSplit\",hist.Cat(\"plotgroup\", \"plotgroup\"), merge_map)\n",
    " #   vjets[var]=vjets[var].group(\"datasetSplit\",hist.Cat(\"plotgroup\", \"plotgroup\"), merge_map_notsplit)\n",
    " #   vjets_ext[var]=vjets_ext[var].group(\"datasetSplit\",hist.Cat(\"plotgroup\", \"plotgroup\"), merge_map_notsplit)\n",
    "    \n",
    "    #hist.scale(scales, axis=\"dataset\")\n",
    "    \n",
    "    \n",
    "    if var == 'nbj' or var == 'ncj' or 'jetpt_' in var or 'jetcsv_' in var  or 'jetpn_' in var or 'dr' in var or var=='MET_covXY' : continue    \n",
    "    \n",
    "    if var == 'cutflow':break\n",
    "\n",
    "    for chs in ch:\n",
    "        for region in regions:\n",
    "                print(var,chs,region)\n",
    "                if 'SR' not in region and '_dphi' in var: continue\n",
    "                fig, ((ax),(rax)) = plt.subplots(2, 1, figsize=(12, 12), gridspec_kw={\"height_ratios\": (3, 1)}, sharex=True)\n",
    "                hep.cms.label(\"Work in progress\", data=True, lumi=41.5, year=2017,ax=ax)\n",
    "\n",
    "                fig.subplots_adjust(hspace=.07)\n",
    "        #        plot.plot1d(other[var].sum(\"dataset\").integrate(\"lepflav\",chs).integrate('region',region),stack=True,\n",
    "        #                   overlay='plotgroup',clear=False,ax=ax)\n",
    "            #    plot.plot1d(vjets[var].sum(\"dataset\").integrate(\"lepflav\",chs).integrate('region',region),stack=True,\n",
    "            #                overlay='plotgroup',clear=False,ax=ax)\n",
    "        #        plot.plot1d(vjets[var].sum(\"dataset\").integrate(\"lepflav\",chs).integrate('region',region) +\n",
    "        #                    vjets_ext[var].sum(\"dataset\").integrate(\"lepflav\",chs).integrate('region',region),stack=True,\n",
    "        #                    overlay='plotgroup',clear=False,ax=ax)\n",
    "           #     plot.plot1d(vjets[var].integrate(\"dataset\",vjets_noninclusice_only).integrate(\"lepflav\",chs).integrate('region',region),stack=True,\n",
    "           #                 overlay='plotgroup',clear=False,ax=ax)\n",
    "        #        plot.plot1d(vjets_DY1ToLL_PtZ_50To150[var].integrate(\"dataset\",vjets_noninclusice_only).integrate(\"lepflav\",chs).integrate('region',region),stack=True,\n",
    "        #                    overlay='plotgroup',clear=False,ax=ax)\n",
    "           #     plot.plot1d(vjets_DY1ToLL_PtZ_150To250[var].integrate(\"dataset\",vjets_noninclusice_only).integrate(\"lepflav\",chs).integrate('region',region),stack=True,\n",
    "           #                 overlay='plotgroup',clear=False,ax=ax)\n",
    "           #     plot.plot1d(vjets_DY1ToLL_PtZ_250To400[var].integrate(\"dataset\",vjets_noninclusice_only).integrate(\"lepflav\",chs).integrate('region',region),stack=True,\n",
    "           #                 overlay='plotgroup',clear=False,ax=ax)\n",
    "           #     plot.plot1d(vjets_DY1ToLL_PtZ_400ToInf[var].integrate(\"dataset\",vjets_noninclusice_only).integrate(\"lepflav\",chs).integrate('region',region),stack=True,\n",
    "           #                 overlay='plotgroup',clear=False,ax=ax)\n",
    "                plot.plot1d(higgs[var].sum(\"datasetSplit\").integrate(\"lepflav\",chs).integrate('region',region).sum(\"flav\"),stack=False,\n",
    "                           overlay='plotgroup',clear=False,ax=ax)\n",
    "                #plot.plot1d(vjets_ext[var].sum(\"dataset\").integrate(\"lepflav\",chs).integrate('region',region),stack=True,\n",
    "                #            overlay='plotgroup',clear=False,ax=ax)\n",
    "                #print(something[var].sum(\"flav\").sum(\"dataset\").sum(\"datasetSplit\").integrate(\"lepflav\",chs).integrate('region',region))\n",
    "         #       plot.plot1d(data[var].sum(\"dataset\").sum(\"plotgroup\").integrate(\"lepflav\",chs).integrate('region',region),clear=False,error_opts=data_err_opts,ax=ax)\n",
    "                #plot.plot1d(data_output[var].sum(\"flav\").sum(\"dataset\").integrate(\"lepflav\",chs).integrate('region',region),clear=False,ax=ax)\n",
    "                #plot.plot1d(hdata,clear=False,error_opts=data_err_opts,ax=ax)\n",
    "                \n",
    "#                 print(sum(hdata.values()[()]),sum(hmc.sum('plotgroup').values()[()]))\n",
    "                #print(sum(outputWWl_s[var].sum(\"flav\").integrate(\"lepflav\",chs).integrate('region',region).integrate('dataset','gchcWW2L2Nu').values()[()]),sum(hdata.values()[()]))\n",
    "                \n",
    "            #    rax = plot.plotratio(num=data[var].sum(\"dataset\").sum(\"plotgroup\").integrate(\"lepflav\",chs).integrate('region',region),\n",
    "            #                                   # denom=(other[var].sum(\"dataset\").integrate(\"lepflav\",chs).integrate('region',region).sum('plotgroup')\n",
    "            #                                   #        + vjets[var].integrate(\"dataset\",vjets_noninclusice_only).integrate(\"lepflav\",chs).integrate('region',region).sum('plotgroup')\n",
    "            #                                   #        + vjets_ext[var].integrate(\"dataset\",vjets_noninclusice_only).integrate(\"lepflav\",chs).integrate('region',region).sum('plotgroup')),\n",
    "            #                                      denom=(vjets_DY1ToLL_PtZ_50To150[var].integrate(\"dataset\",vjets_noninclusice_only).integrate(\"lepflav\",chs).integrate('region',region).sum('plotgroup')\n",
    "            #                                           # +vjets_DY1ToLL_PtZ_150To250[var].integrate(\"dataset\",vjets_noninclusice_only).integrate(\"lepflav\",chs).integrate('region',region).sum('plotgroup')\n",
    "            #                                           # +vjets_DY1ToLL_PtZ_250To400[var].integrate(\"dataset\",vjets_noninclusice_only).integrate(\"lepflav\",chs).integrate('region',region).sum('plotgroup')\n",
    "            #                                           # +vjets_DY1ToLL_PtZ_400ToInf[var].integrate(\"dataset\",vjets_noninclusice_only).integrate(\"lepflav\",chs).integrate('region',region).sum('plotgroup')\n",
    "            #                                          # other[var].sum(\"dataset\").integrate(\"lepflav\",chs).integrate('region',region).sum('plotgroup')\n",
    "            #                                         #  + vjets[var].integrate(\"dataset\",vjets_noninclusice_only).integrate(\"lepflav\",chs).integrate('region',region).sum('plotgroup')\n",
    "            #                                         #  + vjets_ext[var].integrate(\"dataset\",vjets_noninclusice_only).integrate(\"lepflav\",chs).integrate('region',region).sum('plotgroup')\n",
    "            #                                            ),\n",
    "            #                                            ax=rax,\n",
    "            #                                            error_opts=data_err_opts,\n",
    "            #                                            denom_fill_opts={},                                       \n",
    "            #                                           unc='num',\n",
    "            #                                       clear=False\n",
    "            #                                           )\n",
    "            #      \n",
    "            #      \n",
    "            #    rax.set_ylim(0.5,1.5)\n",
    "            #    rax.set_ylabel('Data/MC')\n",
    "            #    #rax.set_xlabel(var_map[var])\n",
    "            #    rax.set_xlabel(var)\n",
    "                ax.set_xlabel('')\n",
    "                chl = chs\n",
    "                if chs =='mumu':\n",
    "                    chl='$\\mu\\mu$'\n",
    "                at = AnchoredText(chl+\"  \"+region_map[region]+\"\\n\" +r\"H$\\rightarrow c\\overline{c}, 2\\ell$\"                                                         \n",
    "                                            , loc='upper left',frameon=False)\n",
    "                ax.add_artist(at)\n",
    "                leg_label = ax.get_legend_handles_labels()[1][0:]\n",
    "                for (i,lab) in enumerate(leg_label):\n",
    "                    if '#' in lab:\n",
    "                        #print(lab.split('#')[1].split('{')[1][0])\n",
    "                        leg_label[i] = lab.split('#')[0] + r\"$\\bar{\" +lab.split('#')[1].split('{')[1][0] + (r\"})$\" if 't' not in lab else r\"}$\" )\n",
    "                for (i,lab) in enumerate(leg_label):\n",
    "                    if 'H' in lab:\n",
    "                        #print(lab.split('#')[1].split('{')[1][0])\n",
    "                        leg_label[i] = leg_label[i] + f' x {scales}'\n",
    "         #       leg_label[-1]='Data'\n",
    "                # leg_label[-2]='Signalx%d' %(scales)\n",
    "#                 print(ax.get_legend_handles_labels()[1])\n",
    "                ax.legend(loc=\"upper right\",handles=ax.get_legend_handles_labels()[0][0:],ncol=2,labels=leg_label,fontsize=18)\n",
    "                ax.plot([])\n",
    "                hep.mpl_magic(ax = ax)\n",
    "            "
   ]
  }
 ],
 "metadata": {
  "kernelspec": {
   "display_name": "Python 3 (ipykernel)",
   "language": "python",
   "name": "python3"
  },
  "language_info": {
   "codemirror_mode": {
    "name": "ipython",
    "version": 3
   },
   "file_extension": ".py",
   "mimetype": "text/x-python",
   "name": "python",
   "nbconvert_exporter": "python",
   "pygments_lexer": "ipython3",
   "version": "3.7.12"
  }
 },
 "nbformat": 4,
 "nbformat_minor": 5
}
